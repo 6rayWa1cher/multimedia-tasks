{
 "cells": [
  {
   "cell_type": "code",
   "execution_count": 1,
   "metadata": {
    "collapsed": true,
    "ExecuteTime": {
     "end_time": "2023-05-02T19:56:37.899232700Z",
     "start_time": "2023-05-02T19:56:37.761313700Z"
    }
   },
   "outputs": [],
   "source": [
    "from libs.audio import read_audio, write_audio\n",
    "from libs.path import get_filename_without_ext, get_ext"
   ]
  },
  {
   "cell_type": "code",
   "execution_count": 2,
   "outputs": [],
   "source": [
    "def downsample_audio_data(data, times):\n",
    "    return data[::times]\n",
    "\n",
    "\n",
    "def downsample_audio(filename, times):\n",
    "    sampling_frequency, data, max_value = read_audio(filename)\n",
    "    downsampled_data = downsample_audio_data(data, times)\n",
    "    write_audio(\n",
    "        sampling_frequency // times,\n",
    "        downsampled_data,\n",
    "        max_value,\n",
    "        f'{get_filename_without_ext(filename)}_downsampled.{get_ext(filename)}'\n",
    "    )\n"
   ],
   "metadata": {
    "collapsed": false,
    "ExecuteTime": {
     "end_time": "2023-05-02T19:56:37.904993700Z",
     "start_time": "2023-05-02T19:56:37.898204900Z"
    }
   }
  },
  {
   "cell_type": "code",
   "execution_count": 3,
   "outputs": [],
   "source": [
    "downsample_audio('vibraphone-C6.wav', 16)"
   ],
   "metadata": {
    "collapsed": false,
    "ExecuteTime": {
     "end_time": "2023-05-02T19:56:37.912103800Z",
     "start_time": "2023-05-02T19:56:37.902035900Z"
    }
   }
  }
 ],
 "metadata": {
  "kernelspec": {
   "display_name": "Python 3",
   "language": "python",
   "name": "python3"
  },
  "language_info": {
   "codemirror_mode": {
    "name": "ipython",
    "version": 2
   },
   "file_extension": ".py",
   "mimetype": "text/x-python",
   "name": "python",
   "nbconvert_exporter": "python",
   "pygments_lexer": "ipython2",
   "version": "2.7.6"
  }
 },
 "nbformat": 4,
 "nbformat_minor": 0
}
